{
  "nbformat": 4,
  "nbformat_minor": 0,
  "metadata": {
    "colab": {
      "provenance": [],
      "gpuType": "T4",
      "authorship_tag": "ABX9TyOgiK5UQUUKCH0QQskT3nHD",
      "include_colab_link": true
    },
    "kernelspec": {
      "name": "python3",
      "display_name": "Python 3"
    },
    "language_info": {
      "name": "python"
    },
    "accelerator": "GPU"
  },
  "cells": [
    {
      "cell_type": "markdown",
      "metadata": {
        "id": "view-in-github",
        "colab_type": "text"
      },
      "source": [
        "<a href=\"https://colab.research.google.com/github/nguyentk31/Smart-Parking/blob/main/SetupTFLite_TrainModel.ipynb\" target=\"_parent\"><img src=\"https://colab.research.google.com/assets/colab-badge.svg\" alt=\"Open In Colab\"/></a>"
      ]
    },
    {
      "cell_type": "code",
      "execution_count": 1,
      "metadata": {
        "colab": {
          "base_uri": "https://localhost:8080/"
        },
        "id": "f8fm-O520vLE",
        "outputId": "b3010695-24cf-4179-e607-452b872f1f5b"
      },
      "outputs": [
        {
          "output_type": "stream",
          "name": "stdout",
          "text": [
            "env: PYTHONPATH=# /env/python\n"
          ]
        }
      ],
      "source": [
        "%env PYTHONPATH = # /env/python"
      ]
    },
    {
      "cell_type": "markdown",
      "source": [
        "Download and install and update miniconda"
      ],
      "metadata": {
        "id": "p7YmuQ133GED"
      }
    },
    {
      "cell_type": "code",
      "source": [
        "!wget https://repo.anaconda.com/miniconda/Miniconda3-py39_23.3.1-0-Linux-x86_64.sh\n",
        "!chmod +x Miniconda3-py39_23.3.1-0-Linux-x86_64.sh\n",
        "!./Miniconda3-py39_23.3.1-0-Linux-x86_64.sh -b -f -p /usr/local\n",
        "!conda update -q conda"
      ],
      "metadata": {
        "colab": {
          "base_uri": "https://localhost:8080/"
        },
        "id": "u63Fg4cs2A-1",
        "outputId": "c67f4766-0378-4475-d6bf-ffbc9aaba996"
      },
      "execution_count": 2,
      "outputs": [
        {
          "output_type": "stream",
          "name": "stdout",
          "text": [
            "--2024-03-30 10:23:09--  https://repo.anaconda.com/miniconda/Miniconda3-py39_23.3.1-0-Linux-x86_64.sh\n",
            "Resolving repo.anaconda.com (repo.anaconda.com)... 104.16.131.3, 104.16.130.3, 2606:4700::6810:8303, ...\n",
            "Connecting to repo.anaconda.com (repo.anaconda.com)|104.16.131.3|:443... connected.\n",
            "HTTP request sent, awaiting response... 200 OK\n",
            "Length: 70605094 (67M) [application/x-sh]\n",
            "Saving to: ‘Miniconda3-py39_23.3.1-0-Linux-x86_64.sh’\n",
            "\n",
            "Miniconda3-py39_23. 100%[===================>]  67.33M   260MB/s    in 0.3s    \n",
            "\n",
            "2024-03-30 10:23:09 (260 MB/s) - ‘Miniconda3-py39_23.3.1-0-Linux-x86_64.sh’ saved [70605094/70605094]\n",
            "\n",
            "PREFIX=/usr/local\n",
            "Unpacking payload ...\n",
            "                                                                                      \n",
            "Installing base environment...\n",
            "\n",
            "\n",
            "Downloading and Extracting Packages\n",
            "\n",
            "\n",
            "Downloading and Extracting Packages\n",
            "\n",
            "Preparing transaction: - \b\b\\ \b\b| \b\b/ \b\bdone\n",
            "Executing transaction: \\ \b\b| \b\b/ \b\b- \b\b\\ \b\b| \b\b/ \b\b- \b\b\\ \b\b| \b\b/ \b\b- \b\b\\ \b\b| \b\b/ \b\b- \b\b\\ \b\b| \b\b/ \b\b- \b\b\\ \b\b| \b\bdone\n",
            "installation finished.\n",
            "WARNING:\n",
            "    You currently have a PYTHONPATH environment variable set. This may cause\n",
            "    unexpected behavior when running the Python interpreter in Miniconda3.\n",
            "    For best results, please verify that your PYTHONPATH only points to\n",
            "    directories of packages that are compatible with the Python interpreter\n",
            "    in Miniconda3: /usr/local\n",
            "Collecting package metadata (current_repodata.json): ...working... done\n",
            "Solving environment: ...working... done\n",
            "\n",
            "## Package Plan ##\n",
            "\n",
            "  environment location: /usr/local\n",
            "\n",
            "  added / updated specs:\n",
            "    - conda\n",
            "\n",
            "\n",
            "The following packages will be downloaded:\n",
            "\n",
            "    package                    |            build\n",
            "    ---------------------------|-----------------\n",
            "    archspec-0.2.3             |     pyhd3eb1b0_0          47 KB\n",
            "    brotli-python-1.0.9        |   py39h6a678d5_7         330 KB\n",
            "    bzip2-1.0.8                |       h5eee18b_5         262 KB\n",
            "    c-ares-1.19.1              |       h5eee18b_0         118 KB\n",
            "    ca-certificates-2024.3.11  |       h06a4308_0         127 KB\n",
            "    certifi-2024.2.2           |   py39h06a4308_0         159 KB\n",
            "    cffi-1.16.0                |   py39h5eee18b_0         251 KB\n",
            "    conda-24.3.0               |   py39h06a4308_0         946 KB\n",
            "    conda-libmamba-solver-24.1.0|     pyhd3eb1b0_0          39 KB\n",
            "    conda-package-handling-2.2.0|   py39h06a4308_0         267 KB\n",
            "    conda-package-streaming-0.9.0|   py39h06a4308_0          27 KB\n",
            "    cryptography-42.0.5        |   py39hdda0065_0         2.1 MB\n",
            "    distro-1.8.0               |   py39h06a4308_0          31 KB\n",
            "    fmt-9.1.0                  |       hdb19cb5_0         194 KB\n",
            "    icu-73.1                   |       h6a678d5_0        25.9 MB\n",
            "    jsonpatch-1.33             |   py39h06a4308_0          31 KB\n",
            "    krb5-1.20.1                |       h143b758_1         1.3 MB\n",
            "    libarchive-3.6.2           |       h6ac8c49_2         900 KB\n",
            "    libcurl-8.5.0              |       h251f7ec_0         416 KB\n",
            "    libedit-3.1.20230828       |       h5eee18b_0         179 KB\n",
            "    libev-4.33                 |       h7f8727e_1         111 KB\n",
            "    libffi-3.4.4               |       h6a678d5_0         142 KB\n",
            "    libmamba-1.5.8             |       hfe524e5_0         1.9 MB\n",
            "    libmambapy-1.5.8           |   py39h2dafd23_0         316 KB\n",
            "    libnghttp2-1.57.0          |       h2d74bed_0         674 KB\n",
            "    libsolv-0.7.24             |       he621ea3_0         492 KB\n",
            "    libssh2-1.10.0             |       hdbd6064_2         292 KB\n",
            "    libxml2-2.10.4             |       hf1b16e4_1         753 KB\n",
            "    lz4-c-1.9.4                |       h6a678d5_0         154 KB\n",
            "    menuinst-2.0.2             |   py39h06a4308_0         137 KB\n",
            "    openssl-3.0.13             |       h7f8727e_0         5.2 MB\n",
            "    packaging-23.2             |   py39h06a4308_0         145 KB\n",
            "    pcre2-10.42                |       hebb0a14_0         1.5 MB\n",
            "    platformdirs-3.10.0        |   py39h06a4308_0          33 KB\n",
            "    pybind11-abi-4             |       hd3eb1b0_1          14 KB\n",
            "    pycosat-0.6.6              |   py39h5eee18b_0          94 KB\n",
            "    python-3.9.19              |       h955ad1f_0        25.1 MB\n",
            "    reproc-14.2.4              |       h295c915_1          30 KB\n",
            "    reproc-cpp-14.2.4          |       h295c915_1          22 KB\n",
            "    requests-2.31.0            |   py39h06a4308_1          96 KB\n",
            "    sqlite-3.41.2              |       h5eee18b_0         1.2 MB\n",
            "    tzdata-2024a               |       h04d1e81_0         116 KB\n",
            "    urllib3-2.1.0              |   py39h06a4308_1         156 KB\n",
            "    xz-5.4.6                   |       h5eee18b_0         651 KB\n",
            "    yaml-cpp-0.8.0             |       h6a678d5_0         607 KB\n",
            "    zstd-1.5.5                 |       hc292b87_0         647 KB\n",
            "    ------------------------------------------------------------\n",
            "                                           Total:        74.0 MB\n",
            "\n",
            "The following NEW packages will be INSTALLED:\n",
            "\n",
            "  archspec           pkgs/main/noarch::archspec-0.2.3-pyhd3eb1b0_0 \n",
            "  brotli-python      pkgs/main/linux-64::brotli-python-1.0.9-py39h6a678d5_7 \n",
            "  bzip2              pkgs/main/linux-64::bzip2-1.0.8-h5eee18b_5 \n",
            "  c-ares             pkgs/main/linux-64::c-ares-1.19.1-h5eee18b_0 \n",
            "  conda-libmamba-so~ pkgs/main/noarch::conda-libmamba-solver-24.1.0-pyhd3eb1b0_0 \n",
            "  distro             pkgs/main/linux-64::distro-1.8.0-py39h06a4308_0 \n",
            "  fmt                pkgs/main/linux-64::fmt-9.1.0-hdb19cb5_0 \n",
            "  icu                pkgs/main/linux-64::icu-73.1-h6a678d5_0 \n",
            "  krb5               pkgs/main/linux-64::krb5-1.20.1-h143b758_1 \n",
            "  libarchive         pkgs/main/linux-64::libarchive-3.6.2-h6ac8c49_2 \n",
            "  libcurl            pkgs/main/linux-64::libcurl-8.5.0-h251f7ec_0 \n",
            "  libedit            pkgs/main/linux-64::libedit-3.1.20230828-h5eee18b_0 \n",
            "  libev              pkgs/main/linux-64::libev-4.33-h7f8727e_1 \n",
            "  libmamba           pkgs/main/linux-64::libmamba-1.5.8-hfe524e5_0 \n",
            "  libmambapy         pkgs/main/linux-64::libmambapy-1.5.8-py39h2dafd23_0 \n",
            "  libnghttp2         pkgs/main/linux-64::libnghttp2-1.57.0-h2d74bed_0 \n",
            "  libsolv            pkgs/main/linux-64::libsolv-0.7.24-he621ea3_0 \n",
            "  libssh2            pkgs/main/linux-64::libssh2-1.10.0-hdbd6064_2 \n",
            "  libxml2            pkgs/main/linux-64::libxml2-2.10.4-hf1b16e4_1 \n",
            "  lz4-c              pkgs/main/linux-64::lz4-c-1.9.4-h6a678d5_0 \n",
            "  menuinst           pkgs/main/linux-64::menuinst-2.0.2-py39h06a4308_0 \n",
            "  pcre2              pkgs/main/linux-64::pcre2-10.42-hebb0a14_0 \n",
            "  platformdirs       pkgs/main/linux-64::platformdirs-3.10.0-py39h06a4308_0 \n",
            "  pybind11-abi       pkgs/main/noarch::pybind11-abi-4-hd3eb1b0_1 \n",
            "  reproc             pkgs/main/linux-64::reproc-14.2.4-h295c915_1 \n",
            "  reproc-cpp         pkgs/main/linux-64::reproc-cpp-14.2.4-h295c915_1 \n",
            "  yaml-cpp           pkgs/main/linux-64::yaml-cpp-0.8.0-h6a678d5_0 \n",
            "  zstd               pkgs/main/linux-64::zstd-1.5.5-hc292b87_0 \n",
            "\n",
            "The following packages will be REMOVED:\n",
            "\n",
            "  brotlipy-0.7.0-py39h27cfd23_1003\n",
            "  pyopenssl-23.0.0-py39h06a4308_0\n",
            "  toolz-0.12.0-py39h06a4308_0\n",
            "\n",
            "The following packages will be UPDATED:\n",
            "\n",
            "  ca-certificates                     2023.01.10-h06a4308_0 --> 2024.3.11-h06a4308_0 \n",
            "  certifi                          2022.12.7-py39h06a4308_0 --> 2024.2.2-py39h06a4308_0 \n",
            "  cffi                                1.15.1-py39h5eee18b_3 --> 1.16.0-py39h5eee18b_0 \n",
            "  conda                               23.3.1-py39h06a4308_0 --> 24.3.0-py39h06a4308_0 \n",
            "  conda-package-han~                   2.0.2-py39h06a4308_0 --> 2.2.0-py39h06a4308_0 \n",
            "  conda-package-str~                   0.7.0-py39h06a4308_0 --> 0.9.0-py39h06a4308_0 \n",
            "  cryptography                        39.0.1-py39h9ce1e76_0 --> 42.0.5-py39hdda0065_0 \n",
            "  jsonpatch          pkgs/main/noarch::jsonpatch-1.32-pyhd~ --> pkgs/main/linux-64::jsonpatch-1.33-py39h06a4308_0 \n",
            "  libffi                                   3.4.2-h6a678d5_6 --> 3.4.4-h6a678d5_0 \n",
            "  openssl                                 1.1.1t-h7f8727e_0 --> 3.0.13-h7f8727e_0 \n",
            "  packaging                             23.0-py39h06a4308_0 --> 23.2-py39h06a4308_0 \n",
            "  pycosat                              0.6.4-py39h5eee18b_0 --> 0.6.6-py39h5eee18b_0 \n",
            "  python                                  3.9.16-h7a1cb2a_2 --> 3.9.19-h955ad1f_0 \n",
            "  requests                            2.28.1-py39h06a4308_1 --> 2.31.0-py39h06a4308_1 \n",
            "  sqlite                                  3.41.1-h5eee18b_0 --> 3.41.2-h5eee18b_0 \n",
            "  tzdata                                   2023c-h04d1e81_0 --> 2024a-h04d1e81_0 \n",
            "  urllib3                            1.26.15-py39h06a4308_0 --> 2.1.0-py39h06a4308_1 \n",
            "  xz                                      5.2.10-h5eee18b_1 --> 5.4.6-h5eee18b_0 \n",
            "\n",
            "\n",
            "Proceed ([y]/n)? y\n",
            "\n",
            "Preparing transaction: ...working... done\n",
            "Verifying transaction: ...working... done\n",
            "Executing transaction: ...working... done\n"
          ]
        }
      ]
    },
    {
      "cell_type": "code",
      "source": [
        "import sys\n",
        "sys.path.append('/usr/local/lib/python3.9/site-packages')"
      ],
      "metadata": {
        "id": "1JB9DXxN2GBu"
      },
      "execution_count": 3,
      "outputs": []
    },
    {
      "cell_type": "markdown",
      "source": [
        "Create conda environment with python 3.9"
      ],
      "metadata": {
        "id": "NePmYA3g3MjZ"
      }
    },
    {
      "cell_type": "code",
      "source": [
        "!conda create -n myenv python=3.9"
      ],
      "metadata": {
        "colab": {
          "base_uri": "https://localhost:8080/"
        },
        "id": "00UfXI3b2NAl",
        "outputId": "51f7599b-46d0-439b-9455-49c0e13a3c95"
      },
      "execution_count": 4,
      "outputs": [
        {
          "output_type": "stream",
          "name": "stdout",
          "text": [
            "Channels:\n",
            " - defaults\n",
            "Platform: linux-64\n",
            "Collecting package metadata (repodata.json): - \b\b\\ \b\b| \b\b/ \b\b- \b\b\\ \b\b| \b\b/ \b\b- \b\bdone\n",
            "Solving environment: | \b\bdone\n",
            "\n",
            "## Package Plan ##\n",
            "\n",
            "  environment location: /usr/local/envs/myenv\n",
            "\n",
            "  added / updated specs:\n",
            "    - python=3.9\n",
            "\n",
            "\n",
            "The following packages will be downloaded:\n",
            "\n",
            "    package                    |            build\n",
            "    ---------------------------|-----------------\n",
            "    pip-23.3.1                 |   py39h06a4308_0         2.6 MB\n",
            "    setuptools-68.2.2          |   py39h06a4308_0         948 KB\n",
            "    wheel-0.41.2               |   py39h06a4308_0         108 KB\n",
            "    ------------------------------------------------------------\n",
            "                                           Total:         3.6 MB\n",
            "\n",
            "The following NEW packages will be INSTALLED:\n",
            "\n",
            "  _libgcc_mutex      pkgs/main/linux-64::_libgcc_mutex-0.1-main \n",
            "  _openmp_mutex      pkgs/main/linux-64::_openmp_mutex-5.1-1_gnu \n",
            "  ca-certificates    pkgs/main/linux-64::ca-certificates-2024.3.11-h06a4308_0 \n",
            "  ld_impl_linux-64   pkgs/main/linux-64::ld_impl_linux-64-2.38-h1181459_1 \n",
            "  libffi             pkgs/main/linux-64::libffi-3.4.4-h6a678d5_0 \n",
            "  libgcc-ng          pkgs/main/linux-64::libgcc-ng-11.2.0-h1234567_1 \n",
            "  libgomp            pkgs/main/linux-64::libgomp-11.2.0-h1234567_1 \n",
            "  libstdcxx-ng       pkgs/main/linux-64::libstdcxx-ng-11.2.0-h1234567_1 \n",
            "  ncurses            pkgs/main/linux-64::ncurses-6.4-h6a678d5_0 \n",
            "  openssl            pkgs/main/linux-64::openssl-3.0.13-h7f8727e_0 \n",
            "  pip                pkgs/main/linux-64::pip-23.3.1-py39h06a4308_0 \n",
            "  python             pkgs/main/linux-64::python-3.9.19-h955ad1f_0 \n",
            "  readline           pkgs/main/linux-64::readline-8.2-h5eee18b_0 \n",
            "  setuptools         pkgs/main/linux-64::setuptools-68.2.2-py39h06a4308_0 \n",
            "  sqlite             pkgs/main/linux-64::sqlite-3.41.2-h5eee18b_0 \n",
            "  tk                 pkgs/main/linux-64::tk-8.6.12-h1ccaba5_0 \n",
            "  tzdata             pkgs/main/noarch::tzdata-2024a-h04d1e81_0 \n",
            "  wheel              pkgs/main/linux-64::wheel-0.41.2-py39h06a4308_0 \n",
            "  xz                 pkgs/main/linux-64::xz-5.4.6-h5eee18b_0 \n",
            "  zlib               pkgs/main/linux-64::zlib-1.2.13-h5eee18b_0 \n",
            "\n",
            "\n",
            "Proceed ([y]/n)? y\n",
            "\n",
            "\n",
            "Downloading and Extracting Packages:\n",
            "pip-23.3.1           | 2.6 MB    | :   0% 0/1 [00:00<?, ?it/s]\n",
            "setuptools-68.2.2    | 948 KB    | :   0% 0/1 [00:00<?, ?it/s]\u001b[A\n",
            "\n",
            "wheel-0.41.2         | 108 KB    | :   0% 0/1 [00:00<?, ?it/s]\u001b[A\u001b[A\n",
            "pip-23.3.1           | 2.6 MB    | :   1% 0.005985630686878887/1 [00:00<00:20, 20.46s/it]\n",
            "\n",
            "wheel-0.41.2         | 108 KB    | :  15% 0.14851206932496985/1 [00:00<00:00,  1.17it/s]\u001b[A\u001b[A\n",
            "\n",
            "wheel-0.41.2         | 108 KB    | : 100% 1.0/1 [00:00<00:00,  1.17it/s]                \u001b[A\u001b[A\n",
            "setuptools-68.2.2    | 948 KB    | : 100% 1.0/1 [00:00<00:00,  1.90it/s]                \u001b[A\n",
            "                                                                        \n",
            "                                                                        \u001b[A\n",
            "\n",
            "                                                                        \u001b[A\u001b[A\n",
            "Preparing transaction: - \b\b\\ \b\b| \b\bdone\n",
            "Verifying transaction: - \b\b\\ \b\b| \b\b/ \b\b- \b\b\\ \b\b| \b\b/ \b\b- \b\b\\ \b\b| \b\b/ \b\b- \b\b\\ \b\bdone\n",
            "Executing transaction: / \b\b- \b\b\\ \b\b| \b\b/ \b\b- \b\b\\ \b\b| \b\bdone\n",
            "#\n",
            "# To activate this environment, use\n",
            "#\n",
            "#     $ conda activate myenv\n",
            "#\n",
            "# To deactivate an active environment, use\n",
            "#\n",
            "#     $ conda deactivate\n",
            "\n"
          ]
        }
      ]
    },
    {
      "cell_type": "markdown",
      "source": [
        "Install dependencies in the new environment. You need to force acitvate conda everytime"
      ],
      "metadata": {
        "id": "ni6WLFsM4e6e"
      }
    },
    {
      "cell_type": "code",
      "source": [
        "%%shell\n",
        "eval \"$(conda shell.bash hook)\"\n",
        "conda activate myenv\n",
        "pip install -q numpy==1.17.3\n",
        "pip install -q tflite-model-maker\n",
        "pip3 install -q pycocotools\n",
        "pip install -q ipykernel"
      ],
      "metadata": {
        "colab": {
          "base_uri": "https://localhost:8080/"
        },
        "id": "tXekpo-h4ch1",
        "outputId": "c7981bdb-78d8-43db-9315-4643c6f9a347"
      },
      "execution_count": 9,
      "outputs": [
        {
          "output_type": "stream",
          "name": "stdout",
          "text": [
            "\u001b[?25l     \u001b[90m━━━━━━━━━━━━━━━━━━━━━━━━━━━━━━━━━━━━━━━━\u001b[0m \u001b[32m0.0/6.4 MB\u001b[0m \u001b[31m?\u001b[0m eta \u001b[36m-:--:--\u001b[0m\r\u001b[2K     \u001b[91m━━━━\u001b[0m\u001b[91m╸\u001b[0m\u001b[90m━━━━━━━━━━━━━━━━━━━━━━━━━━━━━━━━━━━\u001b[0m \u001b[32m0.8/6.4 MB\u001b[0m \u001b[31m22.9 MB/s\u001b[0m eta \u001b[36m0:00:01\u001b[0m\r\u001b[2K     \u001b[91m━━━━━━━━━━━━━━━━━━\u001b[0m\u001b[90m╺\u001b[0m\u001b[90m━━━━━━━━━━━━━━━━━━━━━\u001b[0m \u001b[32m2.9/6.4 MB\u001b[0m \u001b[31m42.0 MB/s\u001b[0m eta \u001b[36m0:00:01\u001b[0m\r\u001b[2K     \u001b[91m━━━━━━━━━━━━━━━━━━━━━━━━━━━━━━━━━━━━━━━\u001b[0m\u001b[91m╸\u001b[0m \u001b[32m6.4/6.4 MB\u001b[0m \u001b[31m62.0 MB/s\u001b[0m eta \u001b[36m0:00:01\u001b[0m\r\u001b[2K     \u001b[90m━━━━━━━━━━━━━━━━━━━━━━━━━━━━━━━━━━━━━━━━\u001b[0m \u001b[32m6.4/6.4 MB\u001b[0m \u001b[31m45.9 MB/s\u001b[0m eta \u001b[36m0:00:00\u001b[0m\n",
            "\u001b[?25h  Preparing metadata (setup.py) ... \u001b[?25l\u001b[?25hdone\n",
            "  Building wheel for numpy (setup.py) ... \u001b[?25l\u001b[?25hdone\n",
            "\u001b[31mERROR: pip's dependency resolver does not currently take into account all the packages that are installed. This behaviour is the source of the following dependency conflicts.\n",
            "numba 0.59.1 requires numpy<1.27,>=1.22, but you have numpy 1.17.3 which is incompatible.\n",
            "opencv-python-headless 4.9.0.80 requires numpy>=1.19.3; python_version >= \"3.9\", but you have numpy 1.17.3 which is incompatible.\n",
            "pandas 2.2.1 requires numpy<2,>=1.22.4; python_version < \"3.11\", but you have numpy 1.17.3 which is incompatible.\n",
            "scikit-learn 1.4.1.post1 requires numpy<2.0,>=1.19.5, but you have numpy 1.17.3 which is incompatible.\n",
            "scipy 1.12.0 requires numpy<1.29.0,>=1.22.4, but you have numpy 1.17.3 which is incompatible.\n",
            "tensorflow 2.8.4 requires numpy>=1.20, but you have numpy 1.17.3 which is incompatible.\n",
            "tensorflow-model-optimization 0.8.0 requires numpy~=1.23, but you have numpy 1.17.3 which is incompatible.\n",
            "tflite-support 0.4.4 requires numpy>=1.20.0, but you have numpy 1.17.3 which is incompatible.\u001b[0m\u001b[31m\n",
            "\u001b[0m\u001b[33mWARNING: Running pip as the 'root' user can result in broken permissions and conflicting behaviour with the system package manager. It is recommended to use a virtual environment instead: https://pip.pypa.io/warnings/venv\u001b[0m\u001b[33m\n",
            "\u001b[0m\u001b[33mWARNING: Running pip as the 'root' user can result in broken permissions and conflicting behaviour with the system package manager. It is recommended to use a virtual environment instead: https://pip.pypa.io/warnings/venv\u001b[0m\u001b[33m\n",
            "\u001b[0m\u001b[33mWARNING: Running pip as the 'root' user can result in broken permissions and conflicting behaviour with the system package manager. It is recommended to use a virtual environment instead: https://pip.pypa.io/warnings/venv\u001b[0m\u001b[33m\n",
            "\u001b[0m\u001b[33mWARNING: Running pip as the 'root' user can result in broken permissions and conflicting behaviour with the system package manager. It is recommended to use a virtual environment instead: https://pip.pypa.io/warnings/venv\u001b[0m\u001b[33m\n",
            "\u001b[0m"
          ]
        },
        {
          "output_type": "execute_result",
          "data": {
            "text/plain": []
          },
          "metadata": {},
          "execution_count": 9
        }
      ]
    },
    {
      "cell_type": "markdown",
      "source": [
        "Run your training and eval script as an external python script"
      ],
      "metadata": {
        "id": "7TmAkjFi4k8U"
      }
    },
    {
      "cell_type": "code",
      "source": [
        "%%shell\n",
        "eval \"$(conda shell.bash hook)\"\n",
        "conda activate myenv"
      ],
      "metadata": {
        "colab": {
          "base_uri": "https://localhost:8080/"
        },
        "id": "4jNMTK0c4jdC",
        "outputId": "78e46484-dfe4-4176-d218-90380901eaaf"
      },
      "execution_count": 6,
      "outputs": [
        {
          "output_type": "execute_result",
          "data": {
            "text/plain": []
          },
          "metadata": {},
          "execution_count": 6
        }
      ]
    },
    {
      "cell_type": "markdown",
      "source": [
        "Download dataset"
      ],
      "metadata": {
        "id": "VHl2JQHi3VT5"
      }
    },
    {
      "cell_type": "code",
      "source": [
        "!wget https://mybucket030.s3.amazonaws.com/dataset.zip\n",
        "!unzip -q dataset.zip"
      ],
      "metadata": {
        "colab": {
          "base_uri": "https://localhost:8080/"
        },
        "id": "O1aawik12VC3",
        "outputId": "0b4e95fa-79c3-49f6-ade4-6305c6be2b11"
      },
      "execution_count": 7,
      "outputs": [
        {
          "output_type": "stream",
          "name": "stdout",
          "text": [
            "--2024-03-30 10:28:00--  https://mybucket030.s3.amazonaws.com/dataset.zip\n",
            "Resolving mybucket030.s3.amazonaws.com (mybucket030.s3.amazonaws.com)... 52.217.114.81, 3.5.27.182, 3.5.25.40, ...\n",
            "Connecting to mybucket030.s3.amazonaws.com (mybucket030.s3.amazonaws.com)|52.217.114.81|:443... connected.\n",
            "HTTP request sent, awaiting response... 200 OK\n",
            "Length: 30623231 (29M) [application/zip]\n",
            "Saving to: ‘dataset.zip’\n",
            "\n",
            "dataset.zip         100%[===================>]  29.20M  8.12MB/s    in 3.6s    \n",
            "\n",
            "2024-03-30 10:28:05 (8.12 MB/s) - ‘dataset.zip’ saved [30623231/30623231]\n",
            "\n"
          ]
        }
      ]
    },
    {
      "cell_type": "markdown",
      "source": [
        "Import the required packages"
      ],
      "metadata": {
        "id": "VV9Ybjeb3aaS"
      }
    },
    {
      "cell_type": "code",
      "source": [
        "import numpy as np\n",
        "import os\n",
        "\n",
        "from tflite_model_maker.config import ExportFormat, QuantizationConfig\n",
        "from tflite_model_maker import model_spec\n",
        "from tflite_model_maker import object_detector\n",
        "\n",
        "from tflite_support import metadata\n",
        "\n",
        "import tensorflow as tf\n",
        "assert tf.__version__.startswith('2')\n",
        "\n",
        "tf.get_logger().setLevel('ERROR')\n",
        "from absl import logging\n",
        "logging.set_verbosity(logging.ERROR)\n",
        "\n",
        "import numpy as np\n",
        "import os\n",
        "\n",
        "from tflite_model_maker.config import ExportFormat, QuantizationConfig\n",
        "from tflite_model_maker import model_spec\n",
        "from tflite_model_maker import object_detector\n",
        "\n",
        "from tflite_support import metadata\n",
        "\n",
        "import tensorflow as tf\n",
        "assert tf.__version__.startswith('2')\n",
        "\n",
        "tf.get_logger().setLevel('ERROR')\n",
        "from absl import logging\n",
        "logging.set_verbosity(logging.ERROR)"
      ],
      "metadata": {
        "colab": {
          "base_uri": "https://localhost:8080/",
          "height": 383
        },
        "id": "OAshYkzw2YjF",
        "outputId": "f13454b8-0793-497c-b72a-7b767b0c3fd6"
      },
      "execution_count": 8,
      "outputs": [
        {
          "output_type": "error",
          "ename": "ModuleNotFoundError",
          "evalue": "No module named 'tflite_model_maker'",
          "traceback": [
            "\u001b[0;31m---------------------------------------------------------------------------\u001b[0m",
            "\u001b[0;31mModuleNotFoundError\u001b[0m                       Traceback (most recent call last)",
            "\u001b[0;32m<ipython-input-8-1ee7adc100c1>\u001b[0m in \u001b[0;36m<cell line: 4>\u001b[0;34m()\u001b[0m\n\u001b[1;32m      2\u001b[0m \u001b[0;32mimport\u001b[0m \u001b[0mos\u001b[0m\u001b[0;34m\u001b[0m\u001b[0;34m\u001b[0m\u001b[0m\n\u001b[1;32m      3\u001b[0m \u001b[0;34m\u001b[0m\u001b[0m\n\u001b[0;32m----> 4\u001b[0;31m \u001b[0;32mfrom\u001b[0m \u001b[0mtflite_model_maker\u001b[0m\u001b[0;34m.\u001b[0m\u001b[0mconfig\u001b[0m \u001b[0;32mimport\u001b[0m \u001b[0mExportFormat\u001b[0m\u001b[0;34m,\u001b[0m \u001b[0mQuantizationConfig\u001b[0m\u001b[0;34m\u001b[0m\u001b[0;34m\u001b[0m\u001b[0m\n\u001b[0m\u001b[1;32m      5\u001b[0m \u001b[0;32mfrom\u001b[0m \u001b[0mtflite_model_maker\u001b[0m \u001b[0;32mimport\u001b[0m \u001b[0mmodel_spec\u001b[0m\u001b[0;34m\u001b[0m\u001b[0;34m\u001b[0m\u001b[0m\n\u001b[1;32m      6\u001b[0m \u001b[0;32mfrom\u001b[0m \u001b[0mtflite_model_maker\u001b[0m \u001b[0;32mimport\u001b[0m \u001b[0mobject_detector\u001b[0m\u001b[0;34m\u001b[0m\u001b[0;34m\u001b[0m\u001b[0m\n",
            "\u001b[0;31mModuleNotFoundError\u001b[0m: No module named 'tflite_model_maker'",
            "",
            "\u001b[0;31m---------------------------------------------------------------------------\u001b[0;32m\nNOTE: If your import is failing due to a missing package, you can\nmanually install dependencies using either !pip or !apt.\n\nTo view examples of installing some common dependencies, click the\n\"Open Examples\" button below.\n\u001b[0;31m---------------------------------------------------------------------------\u001b[0m\n"
          ],
          "errorDetails": {
            "actions": [
              {
                "action": "open_url",
                "actionText": "Open Examples",
                "url": "/notebooks/snippets/importing_libraries.ipynb"
              }
            ]
          }
        }
      ]
    },
    {
      "cell_type": "markdown",
      "source": [
        "Load the dataset"
      ],
      "metadata": {
        "id": "V7uIvMB03l6n"
      }
    },
    {
      "cell_type": "code",
      "source": [
        "train_data, validation_data, test_data = object_detector.DataLoader.from_csv('dataset.csv')"
      ],
      "metadata": {
        "id": "W9VgqmYE2kpA"
      },
      "execution_count": null,
      "outputs": []
    },
    {
      "cell_type": "markdown",
      "source": [
        "Select a model architecture"
      ],
      "metadata": {
        "id": "qLqJTa473z76"
      }
    },
    {
      "cell_type": "code",
      "source": [
        "spec = model_spec.get('efficientdet_lite0')"
      ],
      "metadata": {
        "id": "V0gB259i2s_o"
      },
      "execution_count": null,
      "outputs": []
    },
    {
      "cell_type": "markdown",
      "source": [
        "Train the TensorFlow model with the training data"
      ],
      "metadata": {
        "id": "gZI2niT032-z"
      }
    },
    {
      "cell_type": "code",
      "source": [
        "model = object_detector.create(train_data, model_spec=spec, batch_size=8, train_whole_model=True, epochs=50, validation_data=validation_data)"
      ],
      "metadata": {
        "id": "1GKTQ1ZI2xOv"
      },
      "execution_count": null,
      "outputs": []
    },
    {
      "cell_type": "markdown",
      "source": [
        "Evaluate the model with the validation data"
      ],
      "metadata": {
        "id": "Y8FSjnAg37YT"
      }
    },
    {
      "cell_type": "code",
      "source": [
        "eval_result = model.evaluate(test_data)\n",
        "\n",
        "# Print COCO metrics\n",
        "print(\"COCO metrics:\")\n",
        "for label, metric_value in eval_result.items():\n",
        "     print(f\"{label}: {metric_value}\")"
      ],
      "metadata": {
        "id": "49PRf2Ew2y7g"
      },
      "execution_count": null,
      "outputs": []
    },
    {
      "cell_type": "markdown",
      "source": [
        "Export as a TensorFlow Lite model"
      ],
      "metadata": {
        "id": "XbhjElbS3_Vi"
      }
    },
    {
      "cell_type": "code",
      "source": [
        "model.export(export_dir='.', tflite_filename='lite0.tflite')"
      ],
      "metadata": {
        "id": "r62X6bSu25d2"
      },
      "execution_count": null,
      "outputs": []
    },
    {
      "cell_type": "markdown",
      "source": [
        "Evaluate the TensorFlow Lite model"
      ],
      "metadata": {
        "id": "3x3fVT0I4ByI"
      }
    },
    {
      "cell_type": "code",
      "source": [
        "tflite_eval_result = model.evaluate_tflite('lite0.tflite', test_data)\n",
        "\n",
        "# Print COCO metrics for tflite\n",
        "print(\"COCO metrics tflite\")\n",
        "for label, metric_value in tflite_eval_result.items():\n",
        "    print(f\"{label}: {metric_value}\")"
      ],
      "metadata": {
        "id": "iL82KMil261B"
      },
      "execution_count": null,
      "outputs": []
    },
    {
      "cell_type": "markdown",
      "source": [
        "Download the TFLite model to your local computer"
      ],
      "metadata": {
        "id": "YN48mpJb4xer"
      }
    },
    {
      "cell_type": "code",
      "source": [
        "from google.colab import files\n",
        "files.download('android.tflite')"
      ],
      "metadata": {
        "id": "Hfa4e8vs4vzI"
      },
      "execution_count": null,
      "outputs": []
    }
  ]
}